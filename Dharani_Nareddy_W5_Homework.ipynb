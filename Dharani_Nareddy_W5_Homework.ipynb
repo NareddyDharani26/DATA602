{
 "cells": [
  {
   "cell_type": "markdown",
   "metadata": {},
   "source": [
    "# Logistic Regression Assignment\n",
    "\n",
    "- Run the below cells. If you have the data in a different directory, you'll need to change the url.\n",
    "- Complete all of the numbered questions. You may call any packages that we've used in class.  "
   ]
  },
  {
   "cell_type": "code",
   "execution_count": 1,
   "metadata": {},
   "outputs": [
    {
     "data": {
      "text/html": [
       "<div>\n",
       "<style scoped>\n",
       "    .dataframe tbody tr th:only-of-type {\n",
       "        vertical-align: middle;\n",
       "    }\n",
       "\n",
       "    .dataframe tbody tr th {\n",
       "        vertical-align: top;\n",
       "    }\n",
       "\n",
       "    .dataframe thead th {\n",
       "        text-align: right;\n",
       "    }\n",
       "</style>\n",
       "<table border=\"1\" class=\"dataframe\">\n",
       "  <thead>\n",
       "    <tr style=\"text-align: right;\">\n",
       "      <th></th>\n",
       "      <th>left_company</th>\n",
       "      <th>age</th>\n",
       "      <th>frequency_of_travel</th>\n",
       "      <th>department</th>\n",
       "      <th>commuting_distance</th>\n",
       "      <th>education</th>\n",
       "      <th>satisfaction_with_environment</th>\n",
       "      <th>gender</th>\n",
       "      <th>seniority_level</th>\n",
       "      <th>position</th>\n",
       "      <th>satisfaction_with_job</th>\n",
       "      <th>married_or_single</th>\n",
       "      <th>last_raise_pct</th>\n",
       "      <th>last_performance_rating</th>\n",
       "      <th>total_years_working</th>\n",
       "      <th>years_at_company</th>\n",
       "      <th>years_in_current_job</th>\n",
       "      <th>years_since_last_promotion</th>\n",
       "      <th>years_with_current_supervisor</th>\n",
       "    </tr>\n",
       "  </thead>\n",
       "  <tbody>\n",
       "    <tr>\n",
       "      <th>0</th>\n",
       "      <td>No</td>\n",
       "      <td>37</td>\n",
       "      <td>Travel_Rarely</td>\n",
       "      <td>Sales</td>\n",
       "      <td>16</td>\n",
       "      <td>4</td>\n",
       "      <td>4</td>\n",
       "      <td>Male</td>\n",
       "      <td>2</td>\n",
       "      <td>Sales Executive</td>\n",
       "      <td>3</td>\n",
       "      <td>Divorced</td>\n",
       "      <td>19</td>\n",
       "      <td>3</td>\n",
       "      <td>9</td>\n",
       "      <td>1</td>\n",
       "      <td>0</td>\n",
       "      <td>0</td>\n",
       "      <td>0</td>\n",
       "    </tr>\n",
       "    <tr>\n",
       "      <th>1</th>\n",
       "      <td>No</td>\n",
       "      <td>39</td>\n",
       "      <td>Travel_Rarely</td>\n",
       "      <td>Research &amp; Development</td>\n",
       "      <td>3</td>\n",
       "      <td>2</td>\n",
       "      <td>3</td>\n",
       "      <td>Male</td>\n",
       "      <td>2</td>\n",
       "      <td>Laboratory Technician</td>\n",
       "      <td>3</td>\n",
       "      <td>Divorced</td>\n",
       "      <td>15</td>\n",
       "      <td>3</td>\n",
       "      <td>11</td>\n",
       "      <td>10</td>\n",
       "      <td>8</td>\n",
       "      <td>0</td>\n",
       "      <td>7</td>\n",
       "    </tr>\n",
       "    <tr>\n",
       "      <th>2</th>\n",
       "      <td>No</td>\n",
       "      <td>52</td>\n",
       "      <td>Travel_Frequently</td>\n",
       "      <td>Research &amp; Development</td>\n",
       "      <td>25</td>\n",
       "      <td>4</td>\n",
       "      <td>3</td>\n",
       "      <td>Female</td>\n",
       "      <td>4</td>\n",
       "      <td>Manufacturing Director</td>\n",
       "      <td>4</td>\n",
       "      <td>Married</td>\n",
       "      <td>22</td>\n",
       "      <td>4</td>\n",
       "      <td>31</td>\n",
       "      <td>9</td>\n",
       "      <td>8</td>\n",
       "      <td>0</td>\n",
       "      <td>0</td>\n",
       "    </tr>\n",
       "    <tr>\n",
       "      <th>3</th>\n",
       "      <td>No</td>\n",
       "      <td>50</td>\n",
       "      <td>Non-Travel</td>\n",
       "      <td>Sales</td>\n",
       "      <td>1</td>\n",
       "      <td>3</td>\n",
       "      <td>4</td>\n",
       "      <td>Female</td>\n",
       "      <td>2</td>\n",
       "      <td>Sales Executive</td>\n",
       "      <td>3</td>\n",
       "      <td>Married</td>\n",
       "      <td>12</td>\n",
       "      <td>3</td>\n",
       "      <td>19</td>\n",
       "      <td>18</td>\n",
       "      <td>7</td>\n",
       "      <td>0</td>\n",
       "      <td>13</td>\n",
       "    </tr>\n",
       "    <tr>\n",
       "      <th>4</th>\n",
       "      <td>No</td>\n",
       "      <td>44</td>\n",
       "      <td>Travel_Rarely</td>\n",
       "      <td>Research &amp; Development</td>\n",
       "      <td>4</td>\n",
       "      <td>3</td>\n",
       "      <td>4</td>\n",
       "      <td>Male</td>\n",
       "      <td>2</td>\n",
       "      <td>Healthcare Representative</td>\n",
       "      <td>2</td>\n",
       "      <td>Single</td>\n",
       "      <td>12</td>\n",
       "      <td>3</td>\n",
       "      <td>10</td>\n",
       "      <td>5</td>\n",
       "      <td>2</td>\n",
       "      <td>2</td>\n",
       "      <td>3</td>\n",
       "    </tr>\n",
       "  </tbody>\n",
       "</table>\n",
       "</div>"
      ],
      "text/plain": [
       "  left_company  age frequency_of_travel              department  \\\n",
       "0           No   37       Travel_Rarely                   Sales   \n",
       "1           No   39       Travel_Rarely  Research & Development   \n",
       "2           No   52   Travel_Frequently  Research & Development   \n",
       "3           No   50          Non-Travel                   Sales   \n",
       "4           No   44       Travel_Rarely  Research & Development   \n",
       "\n",
       "   commuting_distance  education  satisfaction_with_environment  gender  \\\n",
       "0                  16          4                              4    Male   \n",
       "1                   3          2                              3    Male   \n",
       "2                  25          4                              3  Female   \n",
       "3                   1          3                              4  Female   \n",
       "4                   4          3                              4    Male   \n",
       "\n",
       "   seniority_level                   position  satisfaction_with_job  \\\n",
       "0                2            Sales Executive                      3   \n",
       "1                2      Laboratory Technician                      3   \n",
       "2                4     Manufacturing Director                      4   \n",
       "3                2            Sales Executive                      3   \n",
       "4                2  Healthcare Representative                      2   \n",
       "\n",
       "  married_or_single  last_raise_pct  last_performance_rating  \\\n",
       "0          Divorced              19                        3   \n",
       "1          Divorced              15                        3   \n",
       "2           Married              22                        4   \n",
       "3           Married              12                        3   \n",
       "4            Single              12                        3   \n",
       "\n",
       "   total_years_working  years_at_company  years_in_current_job  \\\n",
       "0                    9                 1                     0   \n",
       "1                   11                10                     8   \n",
       "2                   31                 9                     8   \n",
       "3                   19                18                     7   \n",
       "4                   10                 5                     2   \n",
       "\n",
       "   years_since_last_promotion  years_with_current_supervisor  \n",
       "0                           0                              0  \n",
       "1                           0                              7  \n",
       "2                           0                              0  \n",
       "3                           0                             13  \n",
       "4                           2                              3  "
      ]
     },
     "execution_count": 1,
     "metadata": {},
     "output_type": "execute_result"
    }
   ],
   "source": [
    "import pandas as pd\n",
    "import numpy as np\n",
    "import matplotlib.pyplot as plt\n",
    "%matplotlib inline\n",
    "\n",
    "df = pd.read_csv('https://raw.githubusercontent.com/msaricaumbc/DS_data/master/ds602/log_reg/employee-turnover-balanced.csv')\n",
    "df.head()"
   ]
  },
  {
   "cell_type": "markdown",
   "metadata": {},
   "source": [
    "## Data Definitions\n",
    "- `left_company`: Whether individual left the company or not. This is the target variable.  \n",
    "- `age`: Age of individual. \n",
    "- `frequency_of_travel`: How often person travels for work.  \n",
    "- `department`: Department person works(worked).  \n",
    "- `commuting_distance`: Distance person lives from office.  \n",
    "- `education`: Highest education category.  \n",
    "- `satisfaction_with_environment`: Satisfaction of environment, on lickert scale.  \n",
    "- `gender`: Gender of individual.  \n",
    "- `seniority_level`: Seniority level of individual.  \n",
    "- `position`: Last position held at the company.  \n",
    "- `satisfaction_with_job`: Satisfaction of their job, on lickert scale.  \n",
    "- `married_or_single`: Marital status of person.  \n",
    "- `last_raise_pct`: Percent increase their last raise represented.  \n",
    "- `last_performance_rating`: Most recent annual performance rating, on lickert scale.  \n",
    "- `total_years_working`: Number of years the individual has spent working in their career.  \n",
    "- `years_at_company`: Number of years the individual has been at the company, regardless of position.  \n",
    "- `years_in_current_job`: Number of years the individual has been in their current position.  \n",
    "- `years_since_last_promotion`: Years since the person had their last promotion.  \n",
    "- `years_with_current_supervisor`: Years the person has had their current supervisor."
   ]
  },
  {
   "cell_type": "markdown",
   "metadata": {},
   "source": [
    "# Question 1\n",
    "- What is the distribution of the target (`left_company`)?  \n",
    "- Do you have any concerns on class imbalances?"
   ]
  },
  {
   "cell_type": "code",
   "execution_count": 2,
   "metadata": {},
   "outputs": [
    {
     "data": {
      "text/plain": [
       "No     500\n",
       "Yes    500\n",
       "Name: left_company, dtype: int64"
      ]
     },
     "execution_count": 2,
     "metadata": {},
     "output_type": "execute_result"
    }
   ],
   "source": [
    "# insert code\n",
    "df['left_company'].value_counts()\n"
   ]
  },
  {
   "cell_type": "markdown",
   "metadata": {},
   "source": [
    "The left_company column will then contain a count of the occurrences of each class. There are 500 instances of the \"No\" class (i.e., employees who did not quit the company) and 500 instances of the \"Yes\" class, (i.e., employees who left the company).\n",
    "\n",
    "The target variable is balanced, with the same amount of instances for each class, as can be seen from the output. There are no issues with class disparities in this situation."
   ]
  },
  {
   "cell_type": "markdown",
   "metadata": {},
   "source": [
    "# Question 2\n",
    "- Create and print a list of the variables that you would treat as numerical and another list for the variables that you would treat as categorical.  \n",
    "- Explain your choices."
   ]
  },
  {
   "cell_type": "code",
   "execution_count": 3,
   "metadata": {},
   "outputs": [],
   "source": [
    "# numerical_vars = []\n",
    "# categorical_Vars = []\n",
    "\n",
    "# create list of numerical variables\n",
    "numerical_vars = ['age', 'commuting_distance', 'satisfaction_with_environment', 'last_raise_pct', \n",
    "                  'last_performance_rating', 'total_years_working', 'years_at_company', 'years_in_current_job', \n",
    "                  'years_since_last_promotion', 'years_with_current_supervisor']\n",
    "\n",
    "# create list of categorical variables\n",
    "categorical_vars = ['frequency_of_travel', 'department', 'education', 'gender', 'seniority_level', \n",
    "                    'position', 'satisfaction_with_job', 'married_or_single']\n"
   ]
  },
  {
   "cell_type": "markdown",
   "metadata": {},
   "source": [
    "\n",
    "\n",
    "These lists, which are based on the types of variables mentioned in the previous output, might need to be modified depending on the particular dataset and analysis issue."
   ]
  },
  {
   "cell_type": "markdown",
   "metadata": {},
   "source": [
    "# Question 3\n",
    "- Determine if any numerical variables risk multicolinearity.  \n",
    "- Remove those variables (if any) from your numerical_vars list.  \n",
    "- Why did you or did not remove any?"
   ]
  },
  {
   "cell_type": "markdown",
   "metadata": {},
   "source": [
    "We can compute the correlation matrix between all pairs of numerical variables in the dataset using the pandas 'corr' method in order to see which numerical variables are at danger of multicollinearity:"
   ]
  },
  {
   "cell_type": "code",
   "execution_count": 4,
   "metadata": {},
   "outputs": [],
   "source": [
    "# insert code here\n",
    "num_df = df[numerical_vars]\n",
    "corr_matrix = num_df.corr()\n"
   ]
  },
  {
   "cell_type": "markdown",
   "metadata": {},
   "source": [
    "We will receive a matrix of correlation values for all sets of numerical variable pairs as a result. The correlation matrix can then be seen using a heatmap to reveal any significant links between the variables:"
   ]
  },
  {
   "cell_type": "code",
   "execution_count": 5,
   "metadata": {},
   "outputs": [
    {
     "data": {
      "image/png": "[encoded data removed]",
      "text/plain": [
       "<Figure size 432x288 with 2 Axes>"
      ]
     },
     "metadata": {
      "needs_background": "light"
     },
     "output_type": "display_data"
    }
   ],
   "source": [
    "import seaborn as sns\n",
    "sns.heatmap(corr_matrix, annot=True)\n",
    "plt.show()\n"
   ]
  },
  {
   "cell_type": "markdown",
   "metadata": {},
   "source": [
    "Insert comments here"
   ]
  },
  {
   "cell_type": "markdown",
   "metadata": {},
   "source": [
    "# Question 4\n",
    "- Split the data into training and test sets.  \n",
    "- Use 20% of the data for test and a random state of 124.  "
   ]
  },
  {
   "cell_type": "code",
   "execution_count": 7,
   "metadata": {},
   "outputs": [],
   "source": [
    "# insert code here\n",
    "from sklearn.model_selection import train_test_split\n",
    "\n",
    "X = df[numerical_vars + categorical_vars]\n",
    "y = df['left_company']\n",
    "\n",
    "X_train, X_test, y_train, y_test = train_test_split(X, y, test_size=0.2, random_state=124)\n"
   ]
  },
  {
   "cell_type": "markdown",
   "metadata": {},
   "source": [
    "# Question 5\n",
    "- Create a pipeline to process the numerical data.  \n",
    "- Create a pipeline to process the categorical data.  \n",
    "\n",
    "Verify each pipeline contains the columns you would expect using a fit_transform on the training data, i.e., print the shapes of the fit_transforms for each pipeline."
   ]
  },
  {
   "cell_type": "code",
   "execution_count": 8,
   "metadata": {},
   "outputs": [],
   "source": [
    "# insert code here\n",
    "from sklearn.pipeline import Pipeline\n",
    "from sklearn.preprocessing import StandardScaler, OneHotEncoder\n",
    "\n",
    "# Pipeline for numerical data\n",
    "num_pipeline = Pipeline([\n",
    "    ('std_scaler', StandardScaler())\n",
    "])\n"
   ]
  },
  {
   "cell_type": "code",
   "execution_count": 9,
   "metadata": {},
   "outputs": [],
   "source": [
    "# Pipeline for categorical data\n",
    "cat_pipeline = Pipeline([\n",
    "    ('one_hot_encoder', OneHotEncoder())\n",
    "])"
   ]
  },
  {
   "cell_type": "code",
   "execution_count": 10,
   "metadata": {},
   "outputs": [
    {
     "name": "stdout",
     "output_type": "stream",
     "text": [
      "Numerical data shape: (800, 10)\n"
     ]
    }
   ],
   "source": [
    "# Fit and transform numerical data\n",
    "num_data = num_pipeline.fit_transform(X_train[numerical_vars])\n",
    "print('Numerical data shape:', num_data.shape)\n"
   ]
  },
  {
   "cell_type": "code",
   "execution_count": 11,
   "metadata": {},
   "outputs": [
    {
     "name": "stdout",
     "output_type": "stream",
     "text": [
      "Categorical data shape: (800, 34)\n"
     ]
    }
   ],
   "source": [
    "# Fit and transform categorical data\n",
    "cat_data = cat_pipeline.fit_transform(X_train[categorical_vars])\n",
    "print('Categorical data shape:', cat_data.shape)\n"
   ]
  },
  {
   "cell_type": "markdown",
   "metadata": {},
   "source": [
    "# Question 6\n",
    "- Create a pipeline that combines the pre-processing and implements a logistic regression model.  \n",
    "- Print the accuracy on the training set and the test set.\n",
    "- Do you have any concerns of overfitting based on the differences between the two accuracy scores?"
   ]
  },
  {
   "cell_type": "code",
   "execution_count": 14,
   "metadata": {},
   "outputs": [],
   "source": [
    "# insert code here\n",
    "from sklearn.linear_model import LogisticRegression\n",
    "from sklearn.compose import ColumnTransformer\n",
    "\n",
    "# Combine numerical and categorical pipelines\n",
    "preprocessor = ColumnTransformer([\n",
    "    ('num', num_pipeline, numerical_vars),\n",
    "    ('cat', cat_pipeline, categorical_vars)\n",
    "])\n"
   ]
  },
  {
   "cell_type": "code",
   "execution_count": 15,
   "metadata": {},
   "outputs": [],
   "source": [
    "# Combine preprocessor and logistic regression estimator into a single pipeline\n",
    "\n",
    "lr_pipeline = Pipeline([\n",
    "    ('preprocessor', preprocessor),\n",
    "    ('logreg', LogisticRegression())\n",
    "])\n"
   ]
  },
  {
   "cell_type": "code",
   "execution_count": 16,
   "metadata": {},
   "outputs": [
    {
     "data": {
      "text/plain": [
       "Pipeline(steps=[('preprocessor',\n",
       "                 ColumnTransformer(transformers=[('num',\n",
       "                                                  Pipeline(steps=[('std_scaler',\n",
       "                                                                   StandardScaler())]),\n",
       "                                                  ['age', 'commuting_distance',\n",
       "                                                   'satisfaction_with_environment',\n",
       "                                                   'last_raise_pct',\n",
       "                                                   'last_performance_rating',\n",
       "                                                   'total_years_working',\n",
       "                                                   'years_at_company',\n",
       "                                                   'years_in_current_job',\n",
       "                                                   'years_since_last_promotion',\n",
       "                                                   'years_with_current_supervisor']),\n",
       "                                                 ('cat',\n",
       "                                                  Pipeline(steps=[('one_hot_encoder',\n",
       "                                                                   OneHotEncoder())]),\n",
       "                                                  ['frequency_of_travel',\n",
       "                                                   'department', 'education',\n",
       "                                                   'gender', 'seniority_level',\n",
       "                                                   'position',\n",
       "                                                   'satisfaction_with_job',\n",
       "                                                   'married_or_single'])])),\n",
       "                ('logreg', LogisticRegression())])"
      ]
     },
     "execution_count": 16,
     "metadata": {},
     "output_type": "execute_result"
    }
   ],
   "source": [
    "# Fit the pipeline to the training data\n",
    "lr_pipeline.fit(X_train, y_train)\n"
   ]
  },
  {
   "cell_type": "code",
   "execution_count": 17,
   "metadata": {},
   "outputs": [
    {
     "name": "stdout",
     "output_type": "stream",
     "text": [
      "Training accuracy: 0.745\n",
      "Test accuracy: 0.715\n"
     ]
    }
   ],
   "source": [
    "# Evaluate accuracy on training set and test set\n",
    "train_acc = lr_pipeline.score(X_train, y_train)\n",
    "test_acc = lr_pipeline.score(X_test, y_test)\n",
    "print('Training accuracy:', train_acc)\n",
    "print('Test accuracy:', test_acc)\n"
   ]
  },
  {
   "cell_type": "markdown",
   "metadata": {},
   "source": [
    "\n",
    "\n",
    "The training and test accuracy scores are only slightly different, indicating that overfitting may not be a significant concern.\n",
    "\n",
    "Even so, it's a good idea to keep an eye on the model's performance with fresh data and take into account extra overfitting prevention methods like cross-validation or L1 or L2 regularization."
   ]
  },
  {
   "cell_type": "markdown",
   "metadata": {},
   "source": [
    "# Question 7\n",
    "What would you recommend as potential next steps for continuing to develop and evaluate a model?"
   ]
  },
  {
   "cell_type": "markdown",
   "metadata": {},
   "source": [
    "Answer: \n",
    "\n",
    "Feature Enginerring, Regularization, Ensemble methods, Hyperparameter tuning, Model Evaluation, Model Interpretation. "
   ]
  }
 ],
 "metadata": {
  "kernelspec": {
   "display_name": "Python 3 (ipykernel)",
   "language": "python",
   "name": "python3"
  },
  "language_info": {
   "codemirror_mode": {
    "name": "ipython",
    "version": 3
   },
   "file_extension": ".py",
   "mimetype": "text/x-python",
   "name": "python",
   "nbconvert_exporter": "python",
   "pygments_lexer": "ipython3",
   "version": "3.9.12"
  }
 },
 "nbformat": 4,
 "nbformat_minor": 4
}
