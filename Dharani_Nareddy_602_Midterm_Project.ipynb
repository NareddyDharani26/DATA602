{
 "cells": [
  {
   "cell_type": "markdown",
   "id": "fe0ac67d",
   "metadata": {},
   "source": [
    "## Dharani Nareddy; Campus ID: LN66171\n",
    "\n"
   ]
  },
  {
   "cell_type": "markdown",
   "id": "cae8094f",
   "metadata": {},
   "source": [
    "### 1. Introduction\n",
    "\n",
    "This dataset includes details from a school's bulletins. Along with the filing deadline and newsletter category, it also contains the title, body, and signature of the newsletter. There are 19607 rows and 6 columns in the entire collection. The category of the newsletter is the target variable.\n",
    "\n",
    "The objective of this project is to create a machine learning model that can infer a newsletter article's category from its headline and content.\n"
   ]
  },
  {
   "cell_type": "markdown",
   "id": "518f50a4",
   "metadata": {},
   "source": [
    "### 2. Importing necessary libraries"
   ]
  },
  {
   "cell_type": "code",
   "execution_count": 1,
   "id": "6121dd0c",
   "metadata": {},
   "outputs": [],
   "source": [
    "import pandas as pd\n",
    "import matplotlib.pyplot as plt\n",
    "import seaborn as sns\n",
    "from sklearn.feature_extraction.text import TfidfVectorizer\n",
    "from sklearn.model_selection import train_test_split\n",
    "from sklearn.linear_model import LogisticRegression\n",
    "from sklearn.metrics import accuracy_score, confusion_matrix\n",
    "from sklearn.ensemble import RandomForestClassifier"
   ]
  },
  {
   "cell_type": "markdown",
   "id": "b5ae046b",
   "metadata": {},
   "source": [
    "### 3. loading the dataset"
   ]
  },
  {
   "cell_type": "code",
   "execution_count": 2,
   "id": "7f706d4c",
   "metadata": {},
   "outputs": [],
   "source": [
    "newsletter = pd.read_csv('https://github.com/msaricaumbc/DS_data/blob/master/ds602/dataset_newsletter.csv?raw=true')\n"
   ]
  },
  {
   "cell_type": "markdown",
   "id": "2fbdc8c3",
   "metadata": {},
   "source": [
    "### 4. Exploring the dataset"
   ]
  },
  {
   "cell_type": "code",
   "execution_count": 3,
   "id": "4452afc4",
   "metadata": {},
   "outputs": [
    {
     "data": {
      "text/html": [
       "<div>\n",
       "<style scoped>\n",
       "    .dataframe tbody tr th:only-of-type {\n",
       "        vertical-align: middle;\n",
       "    }\n",
       "\n",
       "    .dataframe tbody tr th {\n",
       "        vertical-align: top;\n",
       "    }\n",
       "\n",
       "    .dataframe thead th {\n",
       "        text-align: right;\n",
       "    }\n",
       "</style>\n",
       "<table border=\"1\" class=\"dataframe\">\n",
       "  <thead>\n",
       "    <tr style=\"text-align: right;\">\n",
       "      <th></th>\n",
       "      <th>Unnamed: 0</th>\n",
       "      <th>title</th>\n",
       "      <th>body</th>\n",
       "      <th>signature</th>\n",
       "      <th>submissiontime</th>\n",
       "      <th>category</th>\n",
       "    </tr>\n",
       "  </thead>\n",
       "  <tbody>\n",
       "    <tr>\n",
       "      <th>0</th>\n",
       "      <td>0</td>\n",
       "      <td>Mrs. Laurence Class</td>\n",
       "      <td>Because of the upcoming holiday, we will be re...</td>\n",
       "      <td>Jaslynn Laurence</td>\n",
       "      <td>11/18/15 9:26 AM</td>\n",
       "      <td>ANNOUNCEMENTS</td>\n",
       "    </tr>\n",
       "    <tr>\n",
       "      <th>1</th>\n",
       "      <td>1</td>\n",
       "      <td>Mr. Valle's Winter Break Packets (Cornell/Hamp...</td>\n",
       "      <td>All my Cornell, Hampton, and Princeton student...</td>\n",
       "      <td>Mr. Sam Valle</td>\n",
       "      <td>12/16/15 9:26 PM</td>\n",
       "      <td>ANNOUNCEMENTS</td>\n",
       "    </tr>\n",
       "    <tr>\n",
       "      <th>2</th>\n",
       "      <td>2</td>\n",
       "      <td>Hours of Operation</td>\n",
       "      <td>Parents/Guardians,    We will gladly assist yo...</td>\n",
       "      <td>Ms. Ellis</td>\n",
       "      <td>11/18/15 3:30 PM</td>\n",
       "      <td>ANNOUNCEMENTS</td>\n",
       "    </tr>\n",
       "    <tr>\n",
       "      <th>3</th>\n",
       "      <td>3</td>\n",
       "      <td>Character Education</td>\n",
       "      <td>CMIT South scholars will continue to work on v...</td>\n",
       "      <td>Ch.Ed. Team  Room 163</td>\n",
       "      <td>11/15/15 4:49 PM</td>\n",
       "      <td>ANNOUNCEMENTS</td>\n",
       "    </tr>\n",
       "    <tr>\n",
       "      <th>4</th>\n",
       "      <td>4</td>\n",
       "      <td>CMIT Students Connecting with Students Around ...</td>\n",
       "      <td>A couple of classes have had the opportunity t...</td>\n",
       "      <td>Srta. Dickerson</td>\n",
       "      <td>11/16/15 5:21 AM</td>\n",
       "      <td>ANNOUNCEMENTS</td>\n",
       "    </tr>\n",
       "  </tbody>\n",
       "</table>\n",
       "</div>"
      ],
      "text/plain": [
       "   Unnamed: 0                                              title  \\\n",
       "0           0                                Mrs. Laurence Class   \n",
       "1           1  Mr. Valle's Winter Break Packets (Cornell/Hamp...   \n",
       "2           2                                 Hours of Operation   \n",
       "3           3                                Character Education   \n",
       "4           4  CMIT Students Connecting with Students Around ...   \n",
       "\n",
       "                                                body              signature  \\\n",
       "0  Because of the upcoming holiday, we will be re...       Jaslynn Laurence   \n",
       "1  All my Cornell, Hampton, and Princeton student...          Mr. Sam Valle   \n",
       "2  Parents/Guardians,    We will gladly assist yo...              Ms. Ellis   \n",
       "3  CMIT South scholars will continue to work on v...  Ch.Ed. Team  Room 163   \n",
       "4  A couple of classes have had the opportunity t...        Srta. Dickerson   \n",
       "\n",
       "     submissiontime       category  \n",
       "0  11/18/15 9:26 AM  ANNOUNCEMENTS  \n",
       "1  12/16/15 9:26 PM  ANNOUNCEMENTS  \n",
       "2  11/18/15 3:30 PM  ANNOUNCEMENTS  \n",
       "3  11/15/15 4:49 PM  ANNOUNCEMENTS  \n",
       "4  11/16/15 5:21 AM  ANNOUNCEMENTS  "
      ]
     },
     "execution_count": 3,
     "metadata": {},
     "output_type": "execute_result"
    }
   ],
   "source": [
    "newsletter.head()"
   ]
  },
  {
   "cell_type": "code",
   "execution_count": 4,
   "id": "9ef0e37d",
   "metadata": {},
   "outputs": [
    {
     "data": {
      "text/html": [
       "<div>\n",
       "<style scoped>\n",
       "    .dataframe tbody tr th:only-of-type {\n",
       "        vertical-align: middle;\n",
       "    }\n",
       "\n",
       "    .dataframe tbody tr th {\n",
       "        vertical-align: top;\n",
       "    }\n",
       "\n",
       "    .dataframe thead th {\n",
       "        text-align: right;\n",
       "    }\n",
       "</style>\n",
       "<table border=\"1\" class=\"dataframe\">\n",
       "  <thead>\n",
       "    <tr style=\"text-align: right;\">\n",
       "      <th></th>\n",
       "      <th>Unnamed: 0</th>\n",
       "    </tr>\n",
       "  </thead>\n",
       "  <tbody>\n",
       "    <tr>\n",
       "      <th>count</th>\n",
       "      <td>19607.0000</td>\n",
       "    </tr>\n",
       "    <tr>\n",
       "      <th>mean</th>\n",
       "      <td>9803.0000</td>\n",
       "    </tr>\n",
       "    <tr>\n",
       "      <th>std</th>\n",
       "      <td>5660.1977</td>\n",
       "    </tr>\n",
       "    <tr>\n",
       "      <th>min</th>\n",
       "      <td>0.0000</td>\n",
       "    </tr>\n",
       "    <tr>\n",
       "      <th>25%</th>\n",
       "      <td>4901.5000</td>\n",
       "    </tr>\n",
       "    <tr>\n",
       "      <th>50%</th>\n",
       "      <td>9803.0000</td>\n",
       "    </tr>\n",
       "    <tr>\n",
       "      <th>75%</th>\n",
       "      <td>14704.5000</td>\n",
       "    </tr>\n",
       "    <tr>\n",
       "      <th>max</th>\n",
       "      <td>19606.0000</td>\n",
       "    </tr>\n",
       "  </tbody>\n",
       "</table>\n",
       "</div>"
      ],
      "text/plain": [
       "       Unnamed: 0\n",
       "count  19607.0000\n",
       "mean    9803.0000\n",
       "std     5660.1977\n",
       "min        0.0000\n",
       "25%     4901.5000\n",
       "50%     9803.0000\n",
       "75%    14704.5000\n",
       "max    19606.0000"
      ]
     },
     "execution_count": 4,
     "metadata": {},
     "output_type": "execute_result"
    }
   ],
   "source": [
    "newsletter.describe()"
   ]
  },
  {
   "cell_type": "code",
   "execution_count": 5,
   "id": "b268b8f6",
   "metadata": {},
   "outputs": [
    {
     "data": {
      "text/html": [
       "<div>\n",
       "<style scoped>\n",
       "    .dataframe tbody tr th:only-of-type {\n",
       "        vertical-align: middle;\n",
       "    }\n",
       "\n",
       "    .dataframe tbody tr th {\n",
       "        vertical-align: top;\n",
       "    }\n",
       "\n",
       "    .dataframe thead th {\n",
       "        text-align: right;\n",
       "    }\n",
       "</style>\n",
       "<table border=\"1\" class=\"dataframe\">\n",
       "  <thead>\n",
       "    <tr style=\"text-align: right;\">\n",
       "      <th></th>\n",
       "      <th>Unnamed: 0</th>\n",
       "      <th>title</th>\n",
       "      <th>body</th>\n",
       "      <th>signature</th>\n",
       "      <th>submissiontime</th>\n",
       "      <th>category</th>\n",
       "    </tr>\n",
       "  </thead>\n",
       "  <tbody>\n",
       "    <tr>\n",
       "      <th>count</th>\n",
       "      <td>19607.0000</td>\n",
       "      <td>19597</td>\n",
       "      <td>19604</td>\n",
       "      <td>19207</td>\n",
       "      <td>19607</td>\n",
       "      <td>19607</td>\n",
       "    </tr>\n",
       "    <tr>\n",
       "      <th>unique</th>\n",
       "      <td>NaN</td>\n",
       "      <td>12358</td>\n",
       "      <td>16358</td>\n",
       "      <td>2844</td>\n",
       "      <td>17778</td>\n",
       "      <td>12</td>\n",
       "    </tr>\n",
       "    <tr>\n",
       "      <th>top</th>\n",
       "      <td>NaN</td>\n",
       "      <td>2nd Grade News</td>\n",
       "      <td>.</td>\n",
       "      <td>Angie O'Brien</td>\n",
       "      <td>1/28/22 10:58 AM</td>\n",
       "      <td>ANNOUNCEMENTS</td>\n",
       "    </tr>\n",
       "    <tr>\n",
       "      <th>freq</th>\n",
       "      <td>NaN</td>\n",
       "      <td>147</td>\n",
       "      <td>130</td>\n",
       "      <td>777</td>\n",
       "      <td>7</td>\n",
       "      <td>10240</td>\n",
       "    </tr>\n",
       "    <tr>\n",
       "      <th>mean</th>\n",
       "      <td>9803.0000</td>\n",
       "      <td>NaN</td>\n",
       "      <td>NaN</td>\n",
       "      <td>NaN</td>\n",
       "      <td>NaN</td>\n",
       "      <td>NaN</td>\n",
       "    </tr>\n",
       "    <tr>\n",
       "      <th>std</th>\n",
       "      <td>5660.1977</td>\n",
       "      <td>NaN</td>\n",
       "      <td>NaN</td>\n",
       "      <td>NaN</td>\n",
       "      <td>NaN</td>\n",
       "      <td>NaN</td>\n",
       "    </tr>\n",
       "    <tr>\n",
       "      <th>min</th>\n",
       "      <td>0.0000</td>\n",
       "      <td>NaN</td>\n",
       "      <td>NaN</td>\n",
       "      <td>NaN</td>\n",
       "      <td>NaN</td>\n",
       "      <td>NaN</td>\n",
       "    </tr>\n",
       "    <tr>\n",
       "      <th>25%</th>\n",
       "      <td>4901.5000</td>\n",
       "      <td>NaN</td>\n",
       "      <td>NaN</td>\n",
       "      <td>NaN</td>\n",
       "      <td>NaN</td>\n",
       "      <td>NaN</td>\n",
       "    </tr>\n",
       "    <tr>\n",
       "      <th>50%</th>\n",
       "      <td>9803.0000</td>\n",
       "      <td>NaN</td>\n",
       "      <td>NaN</td>\n",
       "      <td>NaN</td>\n",
       "      <td>NaN</td>\n",
       "      <td>NaN</td>\n",
       "    </tr>\n",
       "    <tr>\n",
       "      <th>75%</th>\n",
       "      <td>14704.5000</td>\n",
       "      <td>NaN</td>\n",
       "      <td>NaN</td>\n",
       "      <td>NaN</td>\n",
       "      <td>NaN</td>\n",
       "      <td>NaN</td>\n",
       "    </tr>\n",
       "    <tr>\n",
       "      <th>max</th>\n",
       "      <td>19606.0000</td>\n",
       "      <td>NaN</td>\n",
       "      <td>NaN</td>\n",
       "      <td>NaN</td>\n",
       "      <td>NaN</td>\n",
       "      <td>NaN</td>\n",
       "    </tr>\n",
       "  </tbody>\n",
       "</table>\n",
       "</div>"
      ],
      "text/plain": [
       "        Unnamed: 0           title   body      signature    submissiontime  \\\n",
       "count   19607.0000           19597  19604          19207             19607   \n",
       "unique         NaN           12358  16358           2844             17778   \n",
       "top            NaN  2nd Grade News      .  Angie O'Brien  1/28/22 10:58 AM   \n",
       "freq           NaN             147    130            777                 7   \n",
       "mean     9803.0000             NaN    NaN            NaN               NaN   \n",
       "std      5660.1977             NaN    NaN            NaN               NaN   \n",
       "min         0.0000             NaN    NaN            NaN               NaN   \n",
       "25%      4901.5000             NaN    NaN            NaN               NaN   \n",
       "50%      9803.0000             NaN    NaN            NaN               NaN   \n",
       "75%     14704.5000             NaN    NaN            NaN               NaN   \n",
       "max     19606.0000             NaN    NaN            NaN               NaN   \n",
       "\n",
       "             category  \n",
       "count           19607  \n",
       "unique             12  \n",
       "top     ANNOUNCEMENTS  \n",
       "freq            10240  \n",
       "mean              NaN  \n",
       "std               NaN  \n",
       "min               NaN  \n",
       "25%               NaN  \n",
       "50%               NaN  \n",
       "75%               NaN  \n",
       "max               NaN  "
      ]
     },
     "execution_count": 5,
     "metadata": {},
     "output_type": "execute_result"
    }
   ],
   "source": [
    "newsletter.describe(include=\"all\")"
   ]
  },
  {
   "cell_type": "code",
   "execution_count": 6,
   "id": "4d903e7b",
   "metadata": {},
   "outputs": [
    {
     "name": "stdout",
     "output_type": "stream",
     "text": [
      "<class 'pandas.core.frame.DataFrame'>\n",
      "RangeIndex: 19607 entries, 0 to 19606\n",
      "Data columns (total 6 columns):\n",
      " #   Column          Non-Null Count  Dtype \n",
      "---  ------          --------------  ----- \n",
      " 0   Unnamed: 0      19607 non-null  int64 \n",
      " 1   title           19597 non-null  object\n",
      " 2   body            19604 non-null  object\n",
      " 3   signature       19207 non-null  object\n",
      " 4   submissiontime  19607 non-null  object\n",
      " 5   category        19607 non-null  object\n",
      "dtypes: int64(1), object(5)\n",
      "memory usage: 919.2+ KB\n"
     ]
    }
   ],
   "source": [
    "newsletter.info()"
   ]
  },
  {
   "cell_type": "code",
   "execution_count": 7,
   "id": "2c87dff7",
   "metadata": {},
   "outputs": [
    {
     "data": {
      "text/plain": [
       "Index(['Unnamed: 0', 'title', 'body', 'signature', 'submissiontime',\n",
       "       'category'],\n",
       "      dtype='object')"
      ]
     },
     "execution_count": 7,
     "metadata": {},
     "output_type": "execute_result"
    }
   ],
   "source": [
    "newsletter.columns"
   ]
  },
  {
   "cell_type": "code",
   "execution_count": 8,
   "id": "bcaee319",
   "metadata": {},
   "outputs": [
    {
     "data": {
      "text/plain": [
       "(19607, 6)"
      ]
     },
     "execution_count": 8,
     "metadata": {},
     "output_type": "execute_result"
    }
   ],
   "source": [
    "newsletter.shape"
   ]
  },
  {
   "cell_type": "code",
   "execution_count": 9,
   "id": "c78774ff",
   "metadata": {},
   "outputs": [
    {
     "data": {
      "text/plain": [
       "19607"
      ]
     },
     "execution_count": 9,
     "metadata": {},
     "output_type": "execute_result"
    }
   ],
   "source": [
    "len(newsletter)"
   ]
  },
  {
   "cell_type": "code",
   "execution_count": 10,
   "id": "159a8f2a",
   "metadata": {},
   "outputs": [
    {
     "name": "stdout",
     "output_type": "stream",
     "text": [
      "['ANNOUNCEMENTS' 'UPCOMING EVENTS' 'BREAKING NEWS' 'FIELD TRIPS' 'PTO'\n",
      " 'VOLUNTEERS NEEDED' 'DONATIONS NEEDED' 'ATHLETICS' 'IMPORTANT NEWS'\n",
      " 'ACHIEVEMENTS' 'STUDENT THOUGHTS' 'CLUBS']\n"
     ]
    }
   ],
   "source": [
    "categories = newsletter['category'].unique()\n",
    "print(categories)"
   ]
  },
  {
   "cell_type": "code",
   "execution_count": 11,
   "id": "e050b4c5",
   "metadata": {
    "scrolled": true
   },
   "outputs": [
    {
     "name": "stdout",
     "output_type": "stream",
     "text": [
      "ANNOUNCEMENTS        10240\n",
      "BREAKING NEWS         3649\n",
      "UPCOMING EVENTS       3055\n",
      "PTO                   1507\n",
      "IMPORTANT NEWS         452\n",
      "CLUBS                  363\n",
      "ATHLETICS              170\n",
      "DONATIONS NEEDED        63\n",
      "FIELD TRIPS             53\n",
      "VOLUNTEERS NEEDED       27\n",
      "ACHIEVEMENTS            25\n",
      "STUDENT THOUGHTS         3\n",
      "Name: category, dtype: int64\n"
     ]
    }
   ],
   "source": [
    "print(newsletter['category'].value_counts())"
   ]
  },
  {
   "cell_type": "markdown",
   "id": "ee40510e",
   "metadata": {},
   "source": [
    "### 5. Data Cleaning"
   ]
  },
  {
   "cell_type": "code",
   "execution_count": 12,
   "id": "b1d7123c",
   "metadata": {},
   "outputs": [
    {
     "name": "stdout",
     "output_type": "stream",
     "text": [
      "Unnamed: 0          0\n",
      "title              10\n",
      "body                3\n",
      "signature         400\n",
      "submissiontime      0\n",
      "category            0\n",
      "dtype: int64\n"
     ]
    }
   ],
   "source": [
    "print(newsletter.isnull().sum())"
   ]
  },
  {
   "cell_type": "code",
   "execution_count": 13,
   "id": "34db2a43",
   "metadata": {},
   "outputs": [],
   "source": [
    "newsletter=newsletter.dropna()"
   ]
  },
  {
   "cell_type": "markdown",
   "id": "d46b5bdd",
   "metadata": {},
   "source": [
    "After removing null values"
   ]
  },
  {
   "cell_type": "code",
   "execution_count": 244,
   "id": "0e33eab3",
   "metadata": {},
   "outputs": [
    {
     "name": "stdout",
     "output_type": "stream",
     "text": [
      "Unnamed: 0        0\n",
      "title             0\n",
      "body              0\n",
      "signature         0\n",
      "submissiontime    0\n",
      "category          0\n",
      "dtype: int64\n"
     ]
    }
   ],
   "source": [
    "print(newsletter.isnull().sum())"
   ]
  },
  {
   "cell_type": "code",
   "execution_count": 25,
   "id": "22e507db",
   "metadata": {},
   "outputs": [],
   "source": [
    "# Combine 'title', 'body', and 'signature' columns into one column 'text'\n",
    "newsletter['text'] = newsletter['title'] + ' ' + newsletter['body'] + ' ' + newsletter['signature']\n"
   ]
  },
  {
   "cell_type": "markdown",
   "id": "309a0f7b",
   "metadata": {},
   "source": [
    "### 6. Exploratory Data Analysis(EDA)"
   ]
  },
  {
   "cell_type": "markdown",
   "id": "d4705757",
   "metadata": {},
   "source": [
    "#### i. Univariate Analysis\n",
    "\n",
    "A countplot can be used in this situation to examine the frequency distribution of the target variable, \"category.\""
   ]
  },
  {
   "cell_type": "code",
   "execution_count": 15,
   "id": "e820a57d",
   "metadata": {},
   "outputs": [
    {
     "data": {
      "image/png": "[encoded data removed]",
      "text/plain": [
       "<Figure size 864x576 with 1 Axes>"
      ]
     },
     "metadata": {
      "needs_background": "light"
     },
     "output_type": "display_data"
    }
   ],
   "source": [
    "# plot frequency distribution of categories\n",
    "plt.figure(figsize=(12,8))\n",
    "sns.countplot(x='category', data=newsletter)\n",
    "plt.title('Distribution of Categories')\n",
    "plt.xlabel('Category')\n",
    "plt.ylabel('Count')\n",
    "plt.xticks(rotation=50, ha='right')\n",
    "plt.show()"
   ]
  },
  {
   "cell_type": "markdown",
   "id": "7eb52605",
   "metadata": {},
   "source": [
    "#### A histogram showing the distribution of newsletter word count:"
   ]
  },
  {
   "cell_type": "code",
   "execution_count": 38,
   "id": "64d28a18",
   "metadata": {},
   "outputs": [
    {
     "data": {
      "image/png": "[encoded data removed]",
      "text/plain": [
       "<Figure size 720x432 with 1 Axes>"
      ]
     },
     "metadata": {
      "needs_background": "light"
     },
     "output_type": "display_data"
    }
   ],
   "source": [
    "import matplotlib.pyplot as plt\n",
    "import seaborn as sns\n",
    "\n",
    "newsletter['length'] = newsletter['title'].str.len() + newsletter['body'].str.len() + newsletter['signature'].str.len()\n",
    "\n",
    "plt.figure(figsize=(10, 6))\n",
    "sns.histplot(x='length', data=newsletter, bins=20)\n",
    "plt.title('Distribution of Newsletter Length')\n",
    "plt.xlabel('Length')\n",
    "plt.ylabel('Count')\n",
    "plt.show()\n"
   ]
  },
  {
   "cell_type": "markdown",
   "id": "85a72fa6",
   "metadata": {},
   "source": [
    "#### A histogram showing the distribution of newsletter length:"
   ]
  },
  {
   "cell_type": "code",
   "execution_count": 24,
   "id": "00f0dc88",
   "metadata": {},
   "outputs": [
    {
     "data": {
      "image/png": "[encoded data removed]",
      "text/plain": [
       "<Figure size 720x432 with 1 Axes>"
      ]
     },
     "metadata": {
      "needs_background": "light"
     },
     "output_type": "display_data"
    }
   ],
   "source": [
    "import matplotlib.pyplot as plt\n",
    "import seaborn as sns\n",
    "\n",
    "newsletter['word_count'] = newsletter['title'].str.split().str.len() + newsletter['body'].str.split().str.len() + newsletter['signature'].str.split().str.len()\n",
    "\n",
    "plt.figure(figsize=(10, 6))\n",
    "sns.histplot(x='word_count', data=newsletter, bins=20)\n",
    "plt.title('Distribution of Newsletter Word Count')\n",
    "plt.xlabel('Word Count')\n",
    "plt.ylabel('Count')\n",
    "plt.show()\n"
   ]
  },
  {
   "cell_type": "markdown",
   "id": "b051854f",
   "metadata": {},
   "source": [
    "#### ii. Bivariate Analysis\n",
    "##### Boxplot of Newsletter Length by Category"
   ]
  },
  {
   "cell_type": "code",
   "execution_count": 30,
   "id": "123cb789",
   "metadata": {},
   "outputs": [
    {
     "data": {
      "image/png": "[encoded data removed]",
      "text/plain": [
       "<Figure size 720x432 with 1 Axes>"
      ]
     },
     "metadata": {
      "needs_background": "light"
     },
     "output_type": "display_data"
    }
   ],
   "source": [
    "plt.figure(figsize=(10, 6))\n",
    "sns.boxplot(x='category', y='length', data=newsletter)\n",
    "plt.title('Distribution of Newsletter Length by Category')\n",
    "plt.xlabel('Category')\n",
    "plt.ylabel('Length')\n",
    "plt.xticks(rotation=50, ha='right')\n",
    "plt.show()\n"
   ]
  },
  {
   "cell_type": "markdown",
   "id": "25923122",
   "metadata": {},
   "source": [
    "##### Scatterplot of Newsletter Length vs. Word Count"
   ]
  },
  {
   "cell_type": "code",
   "execution_count": 31,
   "id": "f2226a52",
   "metadata": {},
   "outputs": [
    {
     "data": {
      "image/png": "[encoded data removed]",
      "text/plain": [
       "<Figure size 720x432 with 1 Axes>"
      ]
     },
     "metadata": {
      "needs_background": "light"
     },
     "output_type": "display_data"
    }
   ],
   "source": [
    "plt.figure(figsize=(10, 6))\n",
    "sns.scatterplot(x='length', y='word_count', data=newsletter)\n",
    "plt.title('Relationship between Newsletter Length and Word Count')\n",
    "plt.xlabel('Length')\n",
    "plt.ylabel('Word Count')\n",
    "plt.show()\n"
   ]
  },
  {
   "cell_type": "markdown",
   "id": "ca6e22ba",
   "metadata": {},
   "source": [
    "### iii. Multivariate EDA\n",
    "\n",
    "##### Heatmap of correlations between numerical variables in the dataset"
   ]
  },
  {
   "cell_type": "code",
   "execution_count": 35,
   "id": "5027413a",
   "metadata": {},
   "outputs": [
    {
     "data": {
      "image/png": "[encoded data removed]",
      "text/plain": [
       "<Figure size 720x432 with 2 Axes>"
      ]
     },
     "metadata": {
      "needs_background": "light"
     },
     "output_type": "display_data"
    }
   ],
   "source": [
    "plt.figure(figsize=(10, 6))\n",
    "sns.heatmap(newsletter.corr(), annot=True, cmap='Blues')\n",
    "plt.title('Correlations between Numerical Variables')\n",
    "plt.show()\n"
   ]
  },
  {
   "cell_type": "markdown",
   "id": "3672a910",
   "metadata": {},
   "source": [
    "#### Pairplot of numerical variables"
   ]
  },
  {
   "cell_type": "code",
   "execution_count": 41,
   "id": "85b2ae51",
   "metadata": {},
   "outputs": [
    {
     "data": {
      "text/plain": [
       "<Figure size 720x432 with 0 Axes>"
      ]
     },
     "metadata": {},
     "output_type": "display_data"
    },
    {
     "data": {
      "image/png": "[encoded data removed]",
      "text/plain": [
       "<Figure size 360x360 with 6 Axes>"
      ]
     },
     "metadata": {
      "needs_background": "light"
     },
     "output_type": "display_data"
    }
   ],
   "source": [
    "plt.figure(figsize=(10, 6))\n",
    "sns.pairplot(newsletter[['length', 'word_count']])\n",
    "plt.show()\n",
    "\n"
   ]
  },
  {
   "cell_type": "markdown",
   "id": "4e480ff1",
   "metadata": {},
   "source": [
    "### 7. Feature Engineering"
   ]
  },
  {
   "cell_type": "code",
   "execution_count": 43,
   "id": "d2f2b8a8",
   "metadata": {},
   "outputs": [],
   "source": [
    "# Define features and target variable\n",
    "X = newsletter['title'] + ' ' + newsletter['body']\n",
    "y = newsletter['category']"
   ]
  },
  {
   "cell_type": "code",
   "execution_count": 44,
   "id": "e6716047",
   "metadata": {},
   "outputs": [],
   "source": [
    "# Split data into training and testing sets\n",
    "X_train, X_test, y_train, y_test = train_test_split(X, y, test_size=0.3, random_state=42)"
   ]
  },
  {
   "cell_type": "code",
   "execution_count": 45,
   "id": "51be32d9",
   "metadata": {},
   "outputs": [],
   "source": [
    "# Extract features from text data\n",
    "tfidf = TfidfVectorizer(stop_words='english')\n",
    "X_train_tfidf = tfidf.fit_transform(X_train)\n",
    "X_test_tfidf = tfidf.transform(X_test)\n"
   ]
  },
  {
   "cell_type": "markdown",
   "id": "d424ec08",
   "metadata": {},
   "source": [
    "### 8. Training and Evaluation of a model"
   ]
  },
  {
   "cell_type": "code",
   "execution_count": 46,
   "id": "1de011d5",
   "metadata": {},
   "outputs": [
    {
     "data": {
      "text/plain": [
       "MultinomialNB()"
      ]
     },
     "execution_count": 46,
     "metadata": {},
     "output_type": "execute_result"
    }
   ],
   "source": [
    "# Train a Multinomial Naive Bayes classifier\n",
    "\n",
    "from sklearn.naive_bayes import MultinomialNB\n",
    "\n",
    "clf = MultinomialNB()\n",
    "clf.fit(X_train_tfidf, y_train)"
   ]
  },
  {
   "cell_type": "code",
   "execution_count": 47,
   "id": "dd5a71c0",
   "metadata": {},
   "outputs": [],
   "source": [
    "# Make predictions on test data\n",
    "y_pred = clf.predict(X_test_tfidf)\n"
   ]
  },
  {
   "cell_type": "code",
   "execution_count": 48,
   "id": "58630910",
   "metadata": {},
   "outputs": [
    {
     "name": "stdout",
     "output_type": "stream",
     "text": [
      "Accuracy Score: 0.5427083333333333\n"
     ]
    }
   ],
   "source": [
    "# Evaluate the performance of the model\n",
    "acc_score = accuracy_score(y_test, y_pred)\n",
    "print(\"Accuracy Score:\", acc_score)"
   ]
  },
  {
   "cell_type": "markdown",
   "id": "0cb8dd22",
   "metadata": {},
   "source": [
    "###### The Scikit-Learn library's LogisticRegression class can be used to conduct logistic regression in order to enhance the model's performance. The code can be changed to use logistic regression rather than the Naive Bayes classification as shown below:"
   ]
  },
  {
   "cell_type": "code",
   "execution_count": 49,
   "id": "586a482b",
   "metadata": {},
   "outputs": [
    {
     "name": "stderr",
     "output_type": "stream",
     "text": [
      "/Users/dharanireddy/opt/anaconda3/lib/python3.9/site-packages/sklearn/linear_model/_logistic.py:814: ConvergenceWarning: lbfgs failed to converge (status=1):\n",
      "STOP: TOTAL NO. of ITERATIONS REACHED LIMIT.\n",
      "\n",
      "Increase the number of iterations (max_iter) or scale the data as shown in:\n",
      "    https://scikit-learn.org/stable/modules/preprocessing.html\n",
      "Please also refer to the documentation for alternative solver options:\n",
      "    https://scikit-learn.org/stable/modules/linear_model.html#logistic-regression\n",
      "  n_iter_i = _check_optimize_result(\n"
     ]
    },
    {
     "data": {
      "text/plain": [
       "LogisticRegression()"
      ]
     },
     "execution_count": 49,
     "metadata": {},
     "output_type": "execute_result"
    }
   ],
   "source": [
    "# Import the logistic regression class\n",
    "from sklearn.linear_model import LogisticRegression\n",
    "\n",
    "# Train a logistic regression classifier\n",
    "clf = LogisticRegression()\n",
    "clf.fit(X_train_tfidf, y_train)"
   ]
  },
  {
   "cell_type": "code",
   "execution_count": 50,
   "id": "9efc1411",
   "metadata": {},
   "outputs": [],
   "source": [
    "# Predict on the test set\n",
    "y_pred = clf.predict(X_test_tfidf)\n"
   ]
  },
  {
   "cell_type": "code",
   "execution_count": 51,
   "id": "1d3a4ec1",
   "metadata": {},
   "outputs": [
    {
     "name": "stdout",
     "output_type": "stream",
     "text": [
      "Accuracy Score: 0.6814236111111112\n"
     ]
    }
   ],
   "source": [
    "# Evaluate the performance of the model\n",
    "acc_score = accuracy_score(y_test, y_pred)\n",
    "print(\"Accuracy Score:\", acc_score)"
   ]
  },
  {
   "cell_type": "markdown",
   "id": "503af89d",
   "metadata": {},
   "source": [
    "\n",
    "\n",
    "Comparing the model's performance to that of the Naive Bayes classification, logistic regression appears to have enhanced it."
   ]
  },
  {
   "cell_type": "markdown",
   "id": "85590582",
   "metadata": {},
   "source": [
    "### Conclusion: \n",
    "In this project, we have successfully built a machine learning model that can predict the category of a newsletter article based on its title and content. We have used various data science techniques such as data cleaning, visualization, feature engineering, and model building to achieve this goal. This model can be useful for organizations that publish newsletters to automatically categorize their articles and improve their content strategy."
   ]
  },
  {
   "cell_type": "markdown",
   "id": "933515ba",
   "metadata": {},
   "source": [
    "### 10. Challenges:\n",
    "\n",
    "Text preprocessing: Text preprocessing can be challenging, especially in the case of unstructured text data. The challenge is to identify and remove irrelevant information.\n",
    "\n",
    "Overfitting or underfitting: There is a risk of overfitting or underfitting the model, where the model either becomes too complex and captures noise in the data, or is too simple and fails to capture the underlying patterns in the data.\n",
    "\n",
    "Model selection: A variety of models, including Naive Bayes, logistic regression, support vector machines, and deep learning models, can be used for text categorization. It can be difficult to select the best model for the information."
   ]
  }
 ],
 "metadata": {
  "kernelspec": {
   "display_name": "Python 3 (ipykernel)",
   "language": "python",
   "name": "python3"
  },
  "language_info": {
   "codemirror_mode": {
    "name": "ipython",
    "version": 3
   },
   "file_extension": ".py",
   "mimetype": "text/x-python",
   "name": "python",
   "nbconvert_exporter": "python",
   "pygments_lexer": "ipython3",
   "version": "3.9.12"
  }
 },
 "nbformat": 4,
 "nbformat_minor": 5
}
