{
 "cells": [
  {
   "cell_type": "markdown",
   "id": "57771d6f",
   "metadata": {},
   "source": [
    "# Week 3 Lab"
   ]
  },
  {
   "cell_type": "markdown",
   "id": "ccb647fd",
   "metadata": {},
   "source": [
    "## Questions:\n",
    "- Differences between supervised and unsupervised learning?  \n",
    "- Differences between classification and regression?  \n",
    "- Classification and regression are the only types of supervised learning? "
   ]
  },
  {
   "cell_type": "markdown",
   "id": "03e12e71",
   "metadata": {},
   "source": []
  },
  {
   "cell_type": "markdown",
   "id": "fb01a392",
   "metadata": {},
   "source": [
    "### 1. Differences between supervised and unsupervised learning?\n",
    "### Supervised Learning\n",
    "\n",
    "1. Labeled data are used to train supervised learning algorithms.\n",
    "2. To determine if the supervised learning model is correctly forecasting the output or not, it uses direct feedback.\n",
    "3. A model of supervised learning forecasts the results.\n",
    "4. In supervised learning, input and output data are given to the model.\n",
    "5. The objective of supervised learning is to develop the model such that, when faced with new data, it can anticipate the outcome.\n",
    "6. In order to train the model, supervised learning requires supervision.\n",
    "7. Classification and regression issues can be classed as supervised learning issues.\n",
    "8. When both the input and the associated output are known, supervised learning may be applied.\n",
    "9. The supervised learning model yields reliable results.\n",
    "10. It contains several algorithms, including Bayesian logic, Support Vector Machine, Multi-class Classification, Decision Tree, Linear Regression, and Logistic Regression, among others.\n",
    "\n",
    "\n",
    "### Unsupervised Learning\n",
    "1. Unlabeled data are used to train unsupervised learning systems.\n",
    "2. The unsupervised learning approach doesn't use feedback.\n",
    "3. The data's hidden patterns are discovered via unsupervised learning models.\n",
    "4. Only input data is given to the model in unsupervised learning.\n",
    "5. Discovering hidden patterns and insightful information from an unknown dataset is the aim of unsupervised learning.\n",
    "6. No supervision is required to train a model using unsupervised learning.\n",
    "7. Clustering and associations issues can be categorized under unsupervised learning.\n",
    "8. When there are no corresponding output data and only input data, unsupervised learning can be applied.\n",
    "9. Compared to supervised learning, an unsupervised learning model could produce results that are less accurate.\n",
    "10. It has a number of algorithms, including Apriori, Clustering, and KNN.\n"
   ]
  },
  {
   "cell_type": "markdown",
   "id": "06e83a79",
   "metadata": {},
   "source": [
    "### 2. Differences between classification and regression?\n",
    "### Regression\n",
    "1. The output variable in regression must have a real or continuous nature.\n",
    "2. To map the input value (x) with the continuous output variable, the regression algorithm's second objective is to (y).\n",
    "3. For continuous data, regression algorithms are employed.\n",
    "4. When using regression, we look for the line that best fits the data in order to more precisely forecast the outcome.\n",
    "5. Regression algorithms can be used to tackle problems involving regression, such as forecasting the weather and house prices, among others.\n",
    "6. Linear and non-linear regression algorithms are subsets of the regression algorithm.\n",
    "\n",
    "### Classification\n",
    "1. A discrete value must be used as the output variable in classification.\n",
    "2. Map the discrete output variable to the input value (x) using the classification algorithm (y).\n",
    "3. With discrete data, classification algorithms are applied.\n",
    "4. While classifying data, we look for the decision boundary that can separate the dataset into distinct classes.\n",
    "5. Classification algorithms can be applied to identify spam emails, recognize speech, identify cancer cells, and other classification-related issues.\n",
    "6. Binary Classifier and Multi-class Classifier are two categories into which classification algorithms can be separated."
   ]
  },
  {
   "cell_type": "markdown",
   "id": "3f01d0fd",
   "metadata": {},
   "source": [
    "### 3. Classification and regression are the only types of supervised learning?\n",
    "No, there are more supervised learning methods besides classification and regression. There are many forms of guided learning, including: \n",
    "1. Multi-output regression:In this supervised learning method, the target variable is a vector of two or more continuous variables. \n",
    "2. Ordinal regression:This kind of regression uses a categorical variable with an ordered set of values as the target variable. \n",
    "3. Multi-class classification: The target variable has more than two classes in this sort of classification. \n",
    "4. Imbalanced classification: The distribution of classes in the target variable is significantly unbalanced in this sort of classification, meaning that one class has a much higher number of samples than the others.\n",
    "5. Time series forecaasting: This method of supervised learning aims to predict future values of a target variable that consists of a sequence of values across time.\n",
    "\n",
    "These are only a few examples of additional supervised learning configurations. The type of supervised learning algorithm chosen will depend on the nature of the problem and the sort of data that is available."
   ]
  }
 ],
 "metadata": {
  "kernelspec": {
   "display_name": "Python 3 (ipykernel)",
   "language": "python",
   "name": "python3"
  },
  "language_info": {
   "codemirror_mode": {
    "name": "ipython",
    "version": 3
   },
   "file_extension": ".py",
   "mimetype": "text/x-python",
   "name": "python",
   "nbconvert_exporter": "python",
   "pygments_lexer": "ipython3",
   "version": "3.9.12"
  },
  "toc": {
   "base_numbering": 1,
   "nav_menu": {},
   "number_sections": true,
   "sideBar": true,
   "skip_h1_title": false,
   "title_cell": "Table of Contents",
   "title_sidebar": "Contents",
   "toc_cell": false,
   "toc_position": {},
   "toc_section_display": true,
   "toc_window_display": false
  }
 },
 "nbformat": 4,
 "nbformat_minor": 5
}
